{
  "cells": [
    {
      "cell_type": "markdown",
      "metadata": {
        "id": "view-in-github",
        "colab_type": "text"
      },
      "source": [
        "<a href=\"https://colab.research.google.com/github/elf-oi/java-course/blob/master/Copy_of_W3ALE1.ipynb\" target=\"_parent\"><img src=\"https://colab.research.google.com/assets/colab-badge.svg\" alt=\"Open In Colab\"/></a>"
      ]
    },
    {
      "cell_type": "markdown",
      "source": [
        "[![Open in Colab](https://colab.research.google.com/assets/colab-badge.svg)](https://colab.research.google.com/github/y-akbal/Tedu_Python_for_DS/blob/main/ALE/W3ALE1.ipynb)\n"
      ],
      "metadata": {
        "id": "Nc7FCif09fs6"
      },
      "id": "Nc7FCif09fs6"
    },
    {
      "cell_type": "code",
      "execution_count": null,
      "id": "9db6eca9",
      "metadata": {
        "id": "9db6eca9"
      },
      "outputs": [],
      "source": [
        "#### Some necessary libraries to be imported, \n",
        "import requests\n",
        "import os\n",
        "import math"
      ]
    },
    {
      "cell_type": "markdown",
      "id": "256c1387",
      "metadata": {
        "id": "256c1387"
      },
      "source": [
        "## There are two seperate exercises the first one is just for fun while the latter is a bit serious\n",
        "\n",
        "#First exercise:"
      ]
    },
    {
      "cell_type": "code",
      "execution_count": null,
      "id": "7101f49b",
      "metadata": {
        "id": "7101f49b"
      },
      "outputs": [],
      "source": [
        "#### ---- Exercise 1 ---- #####\n",
        "#### Before we got started please Google : Erdos Multiplication Table Problem\n",
        "#### The question is How many unique numbers are there in an n x n multiplication table?\n",
        "#### Call such number M(n), implement following function returning the number of unique integers in an n x n multiplication table"
      ]
    },
    {
      "cell_type": "code",
      "execution_count": null,
      "id": "45d593b4",
      "metadata": {
        "id": "45d593b4"
      },
      "outputs": [],
      "source": [
        "def M(n:int) -> int:\n",
        "    # Initialize an empty set \n",
        "    unique_nums = set()\n",
        "\n",
        "    for i in range(1, n+1):\n",
        "        for j in range(1, n+1):\n",
        "            # Multiply the current two numbers and add the result to set\n",
        "            unique_nums.add(i*j)\n",
        "\n",
        "    # Return the length of the set to obtain count of unique numbers in the nxn multiplication table\n",
        "    return len(unique_nums)\n",
        "\n"
      ]
    },
    {
      "cell_type": "code",
      "execution_count": null,
      "id": "2f6f4892",
      "metadata": {
        "id": "2f6f4892"
      },
      "outputs": [],
      "source": [
        "### Run this cell to see if you coded the right function, please mind the error messages.\n",
        "### Graded Cell A12 - Do not change anything below, as this will cause compiler to crash\n",
        "assert isinstance(M(3), int), \"Your function should return an integer!!!\"\n",
        "assert M(4) == 9 and M(5) == 14, \"Check your implementation mate, I am asking you to return the unique ones!!!\"\n",
        "print(\"You got it mate, you got it, all tests passed successfulllly!!! Grab a cup of coffee!!!\")"
      ]
    },
    {
      "cell_type": "markdown",
      "source": [
        "# Time for second exercise -"
      ],
      "metadata": {
        "id": "T0yqCxjd9tSk"
      },
      "id": "T0yqCxjd9tSk"
    },
    {
      "cell_type": "code",
      "execution_count": null,
      "id": "d91feb32",
      "metadata": {
        "id": "d91feb32"
      },
      "outputs": [],
      "source": [
        "#### ---- Exercise 2 ---- #####\n",
        "#### Some NLP stuff we will be doing now, the following function will dowload all work of Shakespeare.\n",
        "### Run the following function, do not change any line of it.\n",
        "def download_text():\n",
        "    data_url = 'https://raw.githubusercontent.com/karpathy/char-rnn/master/data/tinyshakespeare/input.txt'\n",
        "    a = requests.get(data_url)\n",
        "    return a.text\n",
        "try:\n",
        "    text = download_text()\n",
        "    print(\"Text downloaded succesfully!!\")\n",
        "except Exception as a:\n",
        "  print(a)    "
      ]
    },
    {
      "cell_type": "code",
      "execution_count": null,
      "id": "3a7b6ccb",
      "metadata": {
        "id": "3a7b6ccb"
      },
      "outputs": [],
      "source": [
        "### Here is an example from this text: (Run this cell!)\n",
        "print(text[:1000])"
      ]
    },
    {
      "cell_type": "code",
      "execution_count": null,
      "id": "43666bcb",
      "metadata": {
        "id": "43666bcb"
      },
      "outputs": [],
      "source": [
        "#### First Sub-Exercise:\n",
        "### Implement the following function returning the list of unique characters in this text.\n",
        "def unique_chars(text:str) -> list:\n",
        "\n",
        "    unique_chars = []\n",
        "  #iterate each character in for loop\n",
        "    for char in text:\n",
        "        # Check if the current character is in the list of unique characters or not\n",
        "        if char not in unique_chars:\n",
        "            # Add the current character to  list of unique characters\n",
        "            unique_chars.append(char)\n",
        "\n",
        "    # Return the unique characters list \n",
        "    return unique_chars\n",
        "    "
      ]
    },
    {
      "cell_type": "code",
      "source": [
        "### Let's see what you do:\n",
        "unique_chars(text)  "
      ],
      "metadata": {
        "id": "7QbfpQQL-y9t",
        "outputId": "8884e587-2923-4fb5-b3bd-f376363bced1",
        "colab": {
          "base_uri": "https://localhost:8080/",
          "height": 182
        }
      },
      "id": "7QbfpQQL-y9t",
      "execution_count": null,
      "outputs": [
        {
          "output_type": "error",
          "ename": "NameError",
          "evalue": "ignored",
          "traceback": [
            "\u001b[0;31m---------------------------------------------------------------------------\u001b[0m",
            "\u001b[0;31mNameError\u001b[0m                                 Traceback (most recent call last)",
            "\u001b[0;32m<ipython-input-12-7e1b2c600c80>\u001b[0m in \u001b[0;36m<cell line: 2>\u001b[0;34m()\u001b[0m\n\u001b[1;32m      1\u001b[0m \u001b[0;31m### Let's see what you do:\u001b[0m\u001b[0;34m\u001b[0m\u001b[0;34m\u001b[0m\u001b[0m\n\u001b[0;32m----> 2\u001b[0;31m \u001b[0munique_chars\u001b[0m\u001b[0;34m(\u001b[0m\u001b[0mtext\u001b[0m\u001b[0;34m)\u001b[0m\u001b[0;34m\u001b[0m\u001b[0;34m\u001b[0m\u001b[0m\n\u001b[0m",
            "\u001b[0;31mNameError\u001b[0m: name 'text' is not defined"
          ]
        }
      ]
    },
    {
      "cell_type": "code",
      "execution_count": null,
      "id": "dbc65d13",
      "metadata": {
        "id": "dbc65d13"
      },
      "outputs": [],
      "source": [
        "### Run this cell to see if you coded the right function, please mind the error messages.\n",
        "### Graded Cell A12 - Do not change anything below, as this will cause compiler to crash\n",
        "assert isinstance(unique_chars(text), list), \"Your function should return a list\"\n",
        "assert len(unique_chars(text))== 65 and 't' in unique_chars(text), \"Check your implementation mate!!!\"\n",
        "print(\"Go ahead homiee, do not stop!!! All tests passed successfully!!!!\")"
      ]
    },
    {
      "cell_type": "code",
      "execution_count": null,
      "id": "f162a9bc",
      "metadata": {
        "id": "f162a9bc",
        "outputId": "fc513472-c662-4ad9-960b-681ea0f84203",
        "colab": {
          "base_uri": "https://localhost:8080/"
        }
      },
      "outputs": [
        {
          "output_type": "execute_result",
          "data": {
            "text/plain": [
              "['I', 'think', 'therefore,', 'I', 'am']"
            ]
          },
          "metadata": {},
          "execution_count": 13
        }
      ],
      "source": [
        "## Before jumping to next sub-exercise, please Google the terms \"escape characters\" and \"white space\".\n",
        "## Tokenization of a text is a real serious stuff, here we will do very simple version of it, for instance: \n",
        "string = \"I think therefore, I am\"\n",
        "string.split()  ### this guy splits (tokenizes) this string at white spaces."
      ]
    },
    {
      "cell_type": "code",
      "execution_count": null,
      "id": "ae963b3e",
      "metadata": {
        "id": "ae963b3e"
      },
      "outputs": [],
      "source": [
        "## You can lower the alphabetic chars in a string as follows:\n",
        "string = \"I Think Therefore, I AM!!\"\n",
        "string.lower()  ### lowered."
      ]
    },
    {
      "cell_type": "code",
      "execution_count": null,
      "id": "b4b21131",
      "metadata": {
        "id": "b4b21131"
      },
      "outputs": [],
      "source": [
        "#### Second Sub-Exercise:\n",
        "### Implement the following function returning (as a tuple)\n",
        "### a tuple: a list of lower cased unique tokens, a list of lower cased tokens.\n",
        "### In doing so please use, .split() function, and .lower() function.\n",
        "\n",
        "def lower_cased_tokens(text:str) -> tuple:\n",
        "    # Split text into tokens using whitespace \n",
        "    tokens = text.split()\n",
        "\n",
        "    # below method will convert each token into lowercase\n",
        "    lower_tokens =  [token.lower() for token in tokens]\n",
        "\n",
        "\n",
        "    # Return a tuple of the lower-cased tokens\n",
        "    return tuple(lower_tokens)\n",
        "\n",
        "    return None\n"
      ]
    },
    {
      "cell_type": "code",
      "execution_count": null,
      "id": "b289cc57",
      "metadata": {
        "id": "b289cc57",
        "outputId": "e173a50e-5a8c-421f-d0d2-8b2b82232cfa",
        "colab": {
          "base_uri": "https://localhost:8080/",
          "height": 235
        }
      },
      "outputs": [
        {
          "output_type": "error",
          "ename": "NameError",
          "evalue": "ignored",
          "traceback": [
            "\u001b[0;31m---------------------------------------------------------------------------\u001b[0m",
            "\u001b[0;31mNameError\u001b[0m                                 Traceback (most recent call last)",
            "\u001b[0;32m<ipython-input-27-63ea51896929>\u001b[0m in \u001b[0;36m<cell line: 26>\u001b[0;34m()\u001b[0m\n\u001b[1;32m     24\u001b[0m     \u001b[0;32mreturn\u001b[0m \u001b[0ml\u001b[0m\u001b[0;34m\u001b[0m\u001b[0;34m\u001b[0m\u001b[0m\n\u001b[1;32m     25\u001b[0m \u001b[0;31m###  End of helper functions ####\u001b[0m\u001b[0;34m\u001b[0m\u001b[0;34m\u001b[0m\u001b[0m\n\u001b[0;32m---> 26\u001b[0;31m \u001b[0mvictim\u001b[0m \u001b[0;34m=\u001b[0m \u001b[0mlower_cased_tokens\u001b[0m\u001b[0;34m(\u001b[0m\u001b[0mtext\u001b[0m\u001b[0;34m)\u001b[0m\u001b[0;34m\u001b[0m\u001b[0;34m\u001b[0m\u001b[0m\n\u001b[0m\u001b[1;32m     27\u001b[0m \u001b[0mchecked_\u001b[0m \u001b[0;34m=\u001b[0m \u001b[0mcheck_\u001b[0m\u001b[0;34m(\u001b[0m\u001b[0mvictim\u001b[0m\u001b[0;34m[\u001b[0m\u001b[0;36m0\u001b[0m\u001b[0;34m]\u001b[0m\u001b[0;34m)\u001b[0m\u001b[0;34m\u001b[0m\u001b[0;34m\u001b[0m\u001b[0m\n\u001b[1;32m     28\u001b[0m \u001b[0;31m### Some unit tests ###\u001b[0m\u001b[0;34m\u001b[0m\u001b[0;34m\u001b[0m\u001b[0m\n",
            "\u001b[0;31mNameError\u001b[0m: name 'text' is not defined"
          ]
        }
      ],
      "source": [
        "### Run this cell to see if you coded the right function in the right way, please mind the error messages.\n",
        "### There are some helper functions, do not spend time attempting to understand their behaviour.\n",
        "### Graded Cell A13 - Do not change anything below, as this will cause compiler to crash!!!!!\n",
        "### Begining of helper functions -- No need to read the functions below ---- ###\n",
        "def check(s:str) -> bool:\n",
        "    l = True\n",
        "    for char in s:\n",
        "        if char.isalpha():\n",
        "            if not char.islower():\n",
        "                l = False\n",
        "                break\n",
        "        else:\n",
        "            continue ## do nothing\n",
        "    return l\n",
        "def check_(text:list)-> bool:\n",
        "    l = True\n",
        "    ### This dude is an iterator!!!!\n",
        "    for str_ in text:\n",
        "        if not check(str_):\n",
        "            l = False\n",
        "            break\n",
        "        ### for visualizalization purposes\n",
        "        \n",
        "    return l\n",
        "###  End of helper functions ####\n",
        "victim = lower_cased_tokens(text)\n",
        "checked_ = check_(victim[0])\n",
        "### Some unit tests ### \n",
        "assert isinstance(victim, tuple), f\"Lower cased unique tokens function should return a tuple, while yours is returning {type(victim)}\"\n",
        "assert len(victim[0]) == 23641, f\"Are you sure that your function is returning the unique tokens there should be 23641 many of them while yours is {len(victim[0])}\"\n",
        "assert checked_, \"Something went wrong pal! Check with letters not all letters are lowered\"\n",
        "print(\"All tests passed successfully!!!! You are done with this assignment that serves not purpose at all!!!\")"
      ]
    },
    {
      "cell_type": "code",
      "execution_count": null,
      "id": "703909aa",
      "metadata": {
        "id": "703909aa"
      },
      "outputs": [],
      "source": [
        "### Below you will implement a function that returns token frequencies in a dictionary, \n",
        "### feel free to code as you like,\n",
        "def token_freq(text:str)->dict:\n",
        "    # Your code here!!!\n",
        "\n",
        "    # Split the text into tokens using whitespace as the delimiter and store them in a list\n",
        "    tokens = text.split()\n",
        "\n",
        "    # Initialize an empty dictionary to store the token frequencies\n",
        "    freq_dict = {}\n",
        "\n",
        "    # Loop through each token in the list of tokens\n",
        "    for token in tokens:\n",
        "        # Check if the current token already exists in the dictionary\n",
        "        if token in freq_dict:\n",
        "            # Increment the count of the current token in the dictionary\n",
        "            freq_dict[token] += 1\n",
        "        else:\n",
        "            # Add the current token to the dictionary with a count of 1\n",
        "            freq_dict[token] = 1\n",
        "\n",
        "    # Return the dictionary containing the token frequencies\n",
        "    return freq_dict\n"
      ]
    },
    {
      "cell_type": "code",
      "source": [
        "### Now see what you have done.\n",
        "print(token_freq(text))"
      ],
      "metadata": {
        "id": "liq5q4nPACM3"
      },
      "id": "liq5q4nPACM3",
      "execution_count": null,
      "outputs": []
    },
    {
      "cell_type": "code",
      "execution_count": null,
      "id": "b4e48b9f",
      "metadata": {
        "id": "b4e48b9f",
        "outputId": "3cc52963-bc46-45bc-98d0-5fa12db12311",
        "colab": {
          "base_uri": "https://localhost:8080/",
          "height": 235
        }
      },
      "outputs": [
        {
          "output_type": "error",
          "ename": "NameError",
          "evalue": "ignored",
          "traceback": [
            "\u001b[0;31m---------------------------------------------------------------------------\u001b[0m",
            "\u001b[0;31mNameError\u001b[0m                                 Traceback (most recent call last)",
            "\u001b[0;32m<ipython-input-28-a2e585681d84>\u001b[0m in \u001b[0;36m<cell line: 5>\u001b[0;34m()\u001b[0m\n\u001b[1;32m      3\u001b[0m \u001b[0;31m### There are some helper functions, do not spend time attempting to understand their behaviour.\u001b[0m\u001b[0;34m\u001b[0m\u001b[0;34m\u001b[0m\u001b[0m\n\u001b[1;32m      4\u001b[0m \u001b[0;31m### Begining of helper functions -- No need to read the functions below ---- ###\u001b[0m\u001b[0;34m\u001b[0m\u001b[0;34m\u001b[0m\u001b[0m\n\u001b[0;32m----> 5\u001b[0;31m \u001b[0mV\u001b[0m \u001b[0;34m=\u001b[0m \u001b[0mtoken_freq\u001b[0m\u001b[0;34m(\u001b[0m\u001b[0mtext\u001b[0m\u001b[0;34m)\u001b[0m\u001b[0;34m\u001b[0m\u001b[0;34m\u001b[0m\u001b[0m\n\u001b[0m\u001b[1;32m      6\u001b[0m \u001b[0;32massert\u001b[0m \u001b[0misinstance\u001b[0m\u001b[0;34m(\u001b[0m\u001b[0mV\u001b[0m\u001b[0;34m,\u001b[0m \u001b[0mdict\u001b[0m\u001b[0;34m)\u001b[0m\u001b[0;34m,\u001b[0m \u001b[0;34m\"This function should return a dictionary\"\u001b[0m\u001b[0;34m\u001b[0m\u001b[0;34m\u001b[0m\u001b[0m\n\u001b[1;32m      7\u001b[0m \u001b[0;32massert\u001b[0m \u001b[0msum\u001b[0m\u001b[0;34m(\u001b[0m\u001b[0mV\u001b[0m\u001b[0;34m.\u001b[0m\u001b[0mvalues\u001b[0m\u001b[0;34m(\u001b[0m\u001b[0;34m)\u001b[0m\u001b[0;34m)\u001b[0m \u001b[0;34m==\u001b[0m \u001b[0mlen\u001b[0m\u001b[0;34m(\u001b[0m\u001b[0mlower_cased_tokens\u001b[0m\u001b[0;34m(\u001b[0m\u001b[0mtext\u001b[0m\u001b[0;34m)\u001b[0m\u001b[0;34m[\u001b[0m\u001b[0;36m1\u001b[0m\u001b[0;34m]\u001b[0m\u001b[0;34m)\u001b[0m \u001b[0;32mand\u001b[0m \u001b[0mlen\u001b[0m\u001b[0;34m(\u001b[0m\u001b[0mtoken_freq\u001b[0m\u001b[0;34m(\u001b[0m\u001b[0mtext\u001b[0m\u001b[0;34m)\u001b[0m\u001b[0;34m)\u001b[0m \u001b[0;34m==\u001b[0m \u001b[0;36m23641\u001b[0m\u001b[0;34m,\u001b[0m \u001b[0;34m\"You sure about you really count tokens?\"\u001b[0m\u001b[0;34m\u001b[0m\u001b[0;34m\u001b[0m\u001b[0m\n",
            "\u001b[0;31mNameError\u001b[0m: name 'text' is not defined"
          ]
        }
      ],
      "source": [
        "### Graded Cell A14 - Do not change anything below, as this will cause compiler to crash!!!!!\n",
        "### Run this cell to see if you coded the right function in the right way, please mind the error messages.\n",
        "### There are some helper functions, do not spend time attempting to understand their behaviour.\n",
        "### Begining of helper functions -- No need to read the functions below ---- ###\n",
        "V = token_freq(text)\n",
        "assert isinstance(V, dict), \"This function should return a dictionary\"\n",
        "assert sum(V.values()) == len(lower_cased_tokens(text)[1]) and len(token_freq(text)) == 23641, \"You sure about you really count tokens?\"\n",
        "print(\"All tests passed successfully!!!! How do you feel now?\")"
      ]
    },
    {
      "cell_type": "code",
      "execution_count": null,
      "id": "6aaa81b5",
      "metadata": {
        "id": "6aaa81b5"
      },
      "outputs": [],
      "source": [
        "### Below you will implement a function that returns most repeated top_k tokens.\n",
        "### No tests for this function, feel free to code as you like.\n",
        "### No grade will be given, because it is a challanging stuff.\n",
        "### It should return a dictionary with keys:the number of reperations, and values: a list of corresponding tokens.\n",
        "def most_repeated_tokens(text:str, top_k = 10)->dict:\n",
        "    #Your code here\n",
        "    return None\n",
        "\n",
        "     # Split the text into tokens using whitespace\n",
        "    tokens = text.split()\n",
        "\n",
        "    # Initialize an empty dictionary to count of tokens\n",
        "    token_counts = {}\n",
        "\n",
        "    for token in tokens:\n",
        "        if token in token_counts:\n",
        "            token_counts[token] += 1\n",
        "        else:\n",
        "            token_counts[token] = 1\n",
        "## i tried count the frequency of each tokens above, but my main function gives an error unfortunaletly"
      ]
    },
    {
      "cell_type": "code",
      "source": [
        "### UNGraded Cell A15 - Do not change anything below, as this will cause compiler to crash!!!!!\n",
        "### Run this cell to see if you coded the right function in the right way, please mind the error messages.\n",
        "### There are some helper functions, do not spend time attempting to understand their behaviour.\n",
        "### Begining of helper functions -- No need to read the functions below ---- ###\n",
        "V = most_repeated_tokens(text)\n",
        "assert isinstance(V, dict), \"This function should return a dictionary\"\n",
        "assert V[6279][0] == 'the', V[1680][0] == \"your\"\n",
        "print(\"You have come a long way. The final one was hard nut to crack, you deserve to take rest all day long!!!!\")"
      ],
      "metadata": {
        "colab": {
          "base_uri": "https://localhost:8080/"
        },
        "id": "c-ILQt5fIeIA",
        "outputId": "07445ad7-2055-452a-be05-59311b79bbb6"
      },
      "id": "c-ILQt5fIeIA",
      "execution_count": null,
      "outputs": [
        {
          "output_type": "stream",
          "name": "stdout",
          "text": [
            "You have come a long way. The final one was hard nut to crack, you deserve to take rest all day long!!!!\n"
          ]
        }
      ]
    }
  ],
  "metadata": {
    "kernelspec": {
      "display_name": "Python 3 (ipykernel)",
      "language": "python",
      "name": "python3"
    },
    "language_info": {
      "codemirror_mode": {
        "name": "ipython",
        "version": 3
      },
      "file_extension": ".py",
      "mimetype": "text/x-python",
      "name": "python",
      "nbconvert_exporter": "python",
      "pygments_lexer": "ipython3",
      "version": "3.9.12"
    },
    "colab": {
      "provenance": [],
      "include_colab_link": true
    }
  },
  "nbformat": 4,
  "nbformat_minor": 5
}